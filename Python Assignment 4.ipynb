{
 "cells": [
  {
   "cell_type": "code",
   "execution_count": null,
   "metadata": {},
   "outputs": [],
   "source": [
    "1.1 Write a Python Program(with class concepts) to find the area of the triangle using\n",
    "the below formula. \n",
    "area = (s*(s-a)*(s-b)*(s-c)) ** 0.5 \n",
    "Function to take the length of the sides of triangle from user should be defined in the parent \n",
    "class and function to calculate the area should be defined in subclass. \n"
   ]
  },
  {
   "cell_type": "code",
   "execution_count": 47,
   "metadata": {},
   "outputs": [],
   "source": [
    "class Sides:\n",
    "    def __init__(self,a,b,c):\n",
    "        self.a=a\n",
    "        self.b=b\n",
    "        self.c=c\n",
    "class Area(Sides):\n",
    "    def __init__(self,*arg):\n",
    "        super(Area,self).__init__(*arg)\n",
    "    def test(self):\n",
    "        print(self.a,self.b,self.c)\n",
    "    def triangle(self):\n",
    "        s=(self.a+self.b+self.c)/2\n",
    "#        print(s)\n",
    "        ar=(s*(s-self.a)*(s-self.b)*(s-self.c))**.5\n",
    "#        print(ar)\n",
    "        return ar\n",
    " "
   ]
  },
  {
   "cell_type": "code",
   "execution_count": 49,
   "metadata": {},
   "outputs": [
    {
     "name": "stdout",
     "output_type": "stream",
     "text": [
      "4 4 6\n"
     ]
    },
    {
     "data": {
      "text/plain": [
       "7.937253933193772"
      ]
     },
     "execution_count": 49,
     "metadata": {},
     "output_type": "execute_result"
    }
   ],
   "source": [
    "       \n",
    "x=4\n",
    "y=4\n",
    "z=6\n",
    "\n",
    "result=Area(x,y,z)\n",
    "\n",
    "result.test()\n",
    "result.triangle()"
   ]
  },
  {
   "cell_type": "code",
   "execution_count": null,
   "metadata": {},
   "outputs": [],
   "source": [
    "1.2 Write a function filter_long_words() that takes a list of\n",
    "words and an integer n and returns the list of words that are longer than n. \n"
   ]
  },
  {
   "cell_type": "code",
   "execution_count": 8,
   "metadata": {},
   "outputs": [
    {
     "name": "stdout",
     "output_type": "stream",
     "text": [
      "['iruwoeruw', 'flkas;f']\n"
     ]
    }
   ],
   "source": [
    "def filter_long_words(x):\n",
    "    for i in range(0,len(x)):\n",
    "        if type(i)==int:\n",
    "            n=x[i]\n",
    "            ind=i\n",
    "    l=[]\n",
    "    for i in x:\n",
    "        if i!=n:\n",
    "            if len(i)>n:\n",
    "                l.append(i)\n",
    "    return l\n",
    "\n",
    "l=['abcd','efg','iruwoeruw','flkas;f',4]\n",
    "print(filter_long_words(l))\n",
    "        \n",
    "    "
   ]
  },
  {
   "cell_type": "code",
   "execution_count": 11,
   "metadata": {},
   "outputs": [
    {
     "name": "stdout",
     "output_type": "stream",
     "text": [
      "['abcd', 'iruwoeruw', 'flkas;f']\n"
     ]
    }
   ],
   "source": [
    "def filter_long_words(x,n):\n",
    "    l=[]\n",
    "    for i in x:\n",
    "        if len(i)>n:\n",
    "            l.append(i)\n",
    "    return l\n",
    "\n",
    "l=['abcd','efg','iruwoeruw','flkas;f']\n",
    "print(filter_long_words(l,3))"
   ]
  },
  {
   "cell_type": "code",
   "execution_count": null,
   "metadata": {},
   "outputs": [],
   "source": [
    "2.1 Write a Python program using function concept that maps list of words\n",
    "into a list of integers representing the lengths of the corresponding words. \n",
    "Hint: If a list [ ab,cde,erty] is passed on to the python function output \n",
    "should come as [2,3,4] \n",
    "Here 2,3 and 4 are the lengths of the words in the list. \n"
   ]
  },
  {
   "cell_type": "code",
   "execution_count": 6,
   "metadata": {},
   "outputs": [
    {
     "name": "stdout",
     "output_type": "stream",
     "text": [
      "[4, 4, 5]\n"
     ]
    }
   ],
   "source": [
    "def lengthofword(x):\n",
    "    l=[]\n",
    "    for i in x:\n",
    "        l.append(len(i))\n",
    "    return l\n",
    "l=['abcd','rewr','rwoer']\n",
    "print(lengthofword(l))"
   ]
  },
  {
   "cell_type": "code",
   "execution_count": null,
   "metadata": {},
   "outputs": [],
   "source": [
    "2.2 Write a Python function which takes a character (i.e. a string of length 1) \n",
    "and returns True if it is a vowel, False otherwise. \n"
   ]
  },
  {
   "cell_type": "code",
   "execution_count": 53,
   "metadata": {},
   "outputs": [
    {
     "name": "stdout",
     "output_type": "stream",
     "text": [
      "True\n",
      "False\n",
      "True\n",
      "False\n",
      "True\n",
      "False\n",
      "True\n",
      "False\n",
      "True\n",
      "False\n"
     ]
    }
   ],
   "source": [
    "def vowel(x):\n",
    "    if x in ['a','e','i','o','u']:\n",
    "        return True\n",
    "    else:\n",
    "        return False\n",
    "\n",
    "\n",
    "l=['a','z','e','k','i','t','o','p','u','r']\n",
    "for i in l:\n",
    "    print(vowel(i))\n"
   ]
  },
  {
   "cell_type": "code",
   "execution_count": null,
   "metadata": {},
   "outputs": [],
   "source": []
  }
 ],
 "metadata": {
  "kernelspec": {
   "display_name": "Python 3",
   "language": "python",
   "name": "python3"
  },
  "language_info": {
   "codemirror_mode": {
    "name": "ipython",
    "version": 3
   },
   "file_extension": ".py",
   "mimetype": "text/x-python",
   "name": "python",
   "nbconvert_exporter": "python",
   "pygments_lexer": "ipython3",
   "version": "3.7.6"
  }
 },
 "nbformat": 4,
 "nbformat_minor": 4
}
