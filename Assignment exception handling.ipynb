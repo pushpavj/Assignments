{
 "cells": [
  {
   "cell_type": "code",
   "execution_count": null,
   "metadata": {},
   "outputs": [],
   "source": [
    "# 1. Write a function to compute 5/0 and use try/except to catch the exceptions."
   ]
  },
  {
   "cell_type": "code",
   "execution_count": 4,
   "metadata": {},
   "outputs": [],
   "source": [
    "def div(x,y):\n",
    "    try:\n",
    "        a=x/y\n",
    "    except ZeroDivisionError:\n",
    "        print('Dvision by zero occured')\n",
    "    except:\n",
    "        print('unable to divide')\n",
    "    else:\n",
    "        print('Divsion is successful')\n",
    "        return a\n",
    "    finally:\n",
    "        print(f\"The given numbers were {x}, {y}\")\n",
    "    "
   ]
  },
  {
   "cell_type": "code",
   "execution_count": 5,
   "metadata": {},
   "outputs": [
    {
     "name": "stdout",
     "output_type": "stream",
     "text": [
      "Divsion is successful\n",
      "The given numbers were 2, 3\n"
     ]
    },
    {
     "data": {
      "text/plain": [
       "0.6666666666666666"
      ]
     },
     "execution_count": 5,
     "metadata": {},
     "output_type": "execute_result"
    }
   ],
   "source": [
    "div(2,3)"
   ]
  },
  {
   "cell_type": "code",
   "execution_count": 6,
   "metadata": {},
   "outputs": [
    {
     "name": "stdout",
     "output_type": "stream",
     "text": [
      "Dvision by zero occured\n",
      "The given numbers were 5, 0\n"
     ]
    }
   ],
   "source": [
    "div(5,0)"
   ]
  },
  {
   "cell_type": "code",
   "execution_count": null,
   "metadata": {},
   "outputs": [],
   "source": [
    "# 2. Implement a Python program to generate all sentences where subject is in\n",
    "# [\"Americans\", \"Indians\"] and verb is in [\"Play\", \"watch\"] and the object is in\n",
    "# [\"Baseball\",\"cricket\"].\n",
    "# Hint: Subject,Verb and Object should be declared in the program as shown below.\n",
    "# subjects=[\"Americans \",\"Indians\"]\n",
    "# verbs=[\"play\",\"watch\"]\n",
    "# objects=[\"Baseball\",\"Cricket\"]\n",
    "# Output should come as below:\n",
    "# Americans play Baseball.\n",
    "# Americans play Cricket.\n",
    "# Americans watch Baseball.\n",
    "# Americans watch Cricket.\n",
    "# Indians play Baseball.\n",
    "# Indians play Cricket.\n",
    "# Indians watch Baseball.\n",
    "# Indians watch Cricket."
   ]
  },
  {
   "cell_type": "code",
   "execution_count": 60,
   "metadata": {},
   "outputs": [],
   "source": [
    "def sent(sub,ver,obj):\n",
    "    sentence=''\n",
    "    excep='Expected list but found other type'\n",
    "    try:\n",
    "        \n",
    "        if type(sub)==list:\n",
    "            typeok='yes'\n",
    "        else:\n",
    "            raise Exception(excep)  \n",
    "        if type(ver)==list:\n",
    "            typeok='yes'\n",
    "        else:\n",
    "            raise Exception(excep)  \n",
    "        if type(obj)==list:\n",
    "            typeok='yes'\n",
    "        else:\n",
    "            raise Exception(excep)  \n",
    "    except:\n",
    "        print(excep)\n",
    "    else:\n",
    "                  \n",
    "        for i in sub:\n",
    "            for j in ver:\n",
    "                for k in obj:\n",
    "                    try:\n",
    "                        sentence=i+' '+j+' '+k\n",
    "                    except:\n",
    "                        print('concatination of subject, verb,obj with space between is failed')\n",
    "                        print(f'Expected string variables and given {i},{j},{k}')\n",
    "                    else:\n",
    "                        print(sentence)\n",
    "                \n",
    "                    "
   ]
  },
  {
   "cell_type": "code",
   "execution_count": 61,
   "metadata": {},
   "outputs": [
    {
     "name": "stdout",
     "output_type": "stream",
     "text": [
      "Expected list but found other type\n"
     ]
    }
   ],
   "source": [
    "subjects=\"Americans\"\n",
    "verbs=[\"play\",\"watch\"]\n",
    "objects=[\"Baseball\",\"Cricket\"]\n",
    "\n",
    "sent(subjects,verbs,objects)"
   ]
  },
  {
   "cell_type": "code",
   "execution_count": 62,
   "metadata": {},
   "outputs": [
    {
     "name": "stdout",
     "output_type": "stream",
     "text": [
      "Americans play Baseball\n",
      "Americans play Cricket\n",
      "Americans watch Baseball\n",
      "Americans watch Cricket\n",
      "Indians play Baseball\n",
      "Indians play Cricket\n",
      "Indians watch Baseball\n",
      "Indians watch Cricket\n"
     ]
    }
   ],
   "source": [
    "subjects=[\"Americans\",\"Indians\"]\n",
    "verbs=[\"play\",\"watch\"]\n",
    "objects=[\"Baseball\",\"Cricket\"]\n",
    "\n",
    "sent(subjects,verbs,objects)"
   ]
  },
  {
   "cell_type": "code",
   "execution_count": 63,
   "metadata": {},
   "outputs": [
    {
     "name": "stdout",
     "output_type": "stream",
     "text": [
      "Americans play Baseball\n",
      "Americans play Cricket\n",
      "concatination of subject, verb,obj with space between is failed\n",
      "Expected string variables and given Americans,3,Baseball\n",
      "concatination of subject, verb,obj with space between is failed\n",
      "Expected string variables and given Americans,3,Cricket\n",
      "Indians play Baseball\n",
      "Indians play Cricket\n",
      "concatination of subject, verb,obj with space between is failed\n",
      "Expected string variables and given Indians,3,Baseball\n",
      "concatination of subject, verb,obj with space between is failed\n",
      "Expected string variables and given Indians,3,Cricket\n"
     ]
    }
   ],
   "source": [
    "subjects=[\"Americans\",\"Indians\"]\n",
    "verbs=[\"play\",3]\n",
    "objects=[\"Baseball\",\"Cricket\"]\n",
    "\n",
    "sent(subjects,verbs,objects)"
   ]
  },
  {
   "cell_type": "code",
   "execution_count": 56,
   "metadata": {},
   "outputs": [
    {
     "name": "stdout",
     "output_type": "stream",
     "text": [
      "Americans play Baseball\n",
      "Americans play Cricket\n",
      "Americans watch Baseball\n",
      "Americans watch Cricket\n",
      "Indians play Baseball\n",
      "Indians play Cricket\n",
      "Indians watch Baseball\n",
      "Indians watch Cricket\n"
     ]
    }
   ],
   "source": [
    "subjects=[\"Americans\",\"Indians\"]\n",
    "verbs=[\"play\",\"watch\"]\n",
    "objects=[\"Baseball\",\"Cricket\"]\n",
    "sentence=''\n",
    "for i in subjects:\n",
    "        for j in verbs:\n",
    "            for k in objects:\n",
    "                sentence=i+' '+j+' '+k\n",
    "                print(sentence)"
   ]
  }
 ],
 "metadata": {
  "kernelspec": {
   "display_name": "Python 3",
   "language": "python",
   "name": "python3"
  },
  "language_info": {
   "codemirror_mode": {
    "name": "ipython",
    "version": 3
   },
   "file_extension": ".py",
   "mimetype": "text/x-python",
   "name": "python",
   "nbconvert_exporter": "python",
   "pygments_lexer": "ipython3",
   "version": "3.7.6"
  }
 },
 "nbformat": 4,
 "nbformat_minor": 4
}
